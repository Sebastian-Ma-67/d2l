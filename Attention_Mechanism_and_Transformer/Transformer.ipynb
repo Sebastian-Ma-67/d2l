{
 "cells": [
  {
   "cell_type": "code",
   "execution_count": 1,
   "metadata": {},
   "outputs": [],
   "source": [
    "import math\n",
    "import pandas as pd\n",
    "import torch\n",
    "from torch import nn\n",
    "from d2l import torch as d2l"
   ]
  },
  {
   "attachments": {},
   "cell_type": "markdown",
   "metadata": {},
   "source": [
    "### 基于位置的前馈网络"
   ]
  },
  {
   "cell_type": "code",
   "execution_count": 2,
   "metadata": {},
   "outputs": [],
   "source": [
    "class PositionWiseFFN(nn.Module):\n",
    "    \"\"\"基于位置的前馈神经网络\"\"\"\n",
    "    \n",
    "    def __init__(self, ffn_num_input, ffn_num_hiddens, ffn_num_outputs, **kwargs):\n",
    "        # super(FooChild,self) 首先找到 FooChild 的父类（就是类 FooParent），然后把类 FooChild 的对象转换为类 FooParent 的对象\n",
    "        super(PositionWiseFFN, self).__init__(**kwargs)\n",
    "        self.dense1 = nn.Linear(ffn_num_input, ffn_num_hiddens)\n",
    "        self.relu = nn.ReLU()\n",
    "        self.dense2 = nn.Linear(ffn_num_hiddens, ffn_num_outputs)\n",
    "        \n",
    "    def forward(self, X):\n",
    "        return self.dense2(self.relu(self.dense1(X)))\n",
    "    "
   ]
  },
  {
   "cell_type": "code",
   "execution_count": 3,
   "metadata": {},
   "outputs": [
    {
     "name": "stdout",
     "output_type": "stream",
     "text": [
      "tensor([[-0.1660,  0.0353, -0.4384, -0.0043,  0.1862, -0.1378, -0.2869, -0.2439],\n",
      "        [-0.1660,  0.0353, -0.4384, -0.0043,  0.1862, -0.1378, -0.2869, -0.2439],\n",
      "        [-0.1660,  0.0353, -0.4384, -0.0043,  0.1862, -0.1378, -0.2869, -0.2439]],\n",
      "       grad_fn=<SelectBackward0>)\n",
      "tensor([[-0.1660,  0.0353, -0.4384, -0.0043,  0.1862, -0.1378, -0.2869, -0.2439],\n",
      "        [-0.1660,  0.0353, -0.4384, -0.0043,  0.1862, -0.1378, -0.2869, -0.2439],\n",
      "        [-0.1660,  0.0353, -0.4384, -0.0043,  0.1862, -0.1378, -0.2869, -0.2439]],\n",
      "       grad_fn=<SelectBackward0>)\n"
     ]
    }
   ],
   "source": [
    "ffn = PositionWiseFFN(4, 4, 8)\n",
    "ffn.eval()\n",
    "print(ffn(torch.ones((2, 3, 4)))[0])\n",
    "print(ffn(torch.ones((2, 3, 4)))[1])\n"
   ]
  },
  {
   "attachments": {},
   "cell_type": "markdown",
   "metadata": {},
   "source": [
    "### 残差连接和层规范化"
   ]
  },
  {
   "cell_type": "code",
   "execution_count": 5,
   "metadata": {},
   "outputs": [
    {
     "name": "stdout",
     "output_type": "stream",
     "text": [
      "layer norm: tensor([[-1.0000,  1.0000],\n",
      "        [-1.0000,  1.0000]], grad_fn=<NativeLayerNormBackward0>) \n",
      "batch norm: tensor([[-1.0000, -1.0000],\n",
      "        [ 1.0000,  1.0000]], grad_fn=<NativeBatchNormBackward0>)\n"
     ]
    }
   ],
   "source": [
    "ln = nn.LayerNorm(2)\n",
    "bn =  nn.BatchNorm1d(2)\n",
    "X = torch.tensor([[1, 2],\n",
    "                  [2, 3]], dtype=torch.float32)\n",
    "# 在训练模式下计算 X 的均值和方差\n",
    "print('layer norm:', ln(X), '\\nbatch norm:', bn(X))"
   ]
  },
  {
   "cell_type": "code",
   "execution_count": 6,
   "metadata": {},
   "outputs": [],
   "source": [
    "class AddNorm(nn.Module):\n",
    "    \"\"\"残差链接后进行层规范化\"\"\"\n",
    "    \n",
    "    def __init__(self, normalized_shape, dropout, **kwargs):\n",
    "        super(AddNorm, self).__init__(**kwargs)\n",
    "        self.dropout = nn.Dropout(dropout)\n",
    "        self.ln = nn.LayerNorm(normalized_shape)\n",
    "        \n",
    "    def forward(self, X, Y):\n",
    "        return self.ln(self.dropout(Y) + X)"
   ]
  },
  {
   "cell_type": "code",
   "execution_count": 7,
   "metadata": {},
   "outputs": [
    {
     "data": {
      "text/plain": [
       "torch.Size([2, 3, 4])"
      ]
     },
     "execution_count": 7,
     "metadata": {},
     "output_type": "execute_result"
    }
   ],
   "source": [
    "# for a test\n",
    "add_norm = AddNorm([3, 4], 0.5)\n",
    "add_norm.eval()\n",
    "add_norm(torch.ones((2, 3, 4)), torch.ones((2, 3, 4))).shape"
   ]
  },
  {
   "attachments": {},
   "cell_type": "markdown",
   "metadata": {},
   "source": [
    "### 编码器"
   ]
  },
  {
   "cell_type": "code",
   "execution_count": 11,
   "metadata": {},
   "outputs": [],
   "source": [
    "class EncoderBlock(nn.Module):\n",
    "    \"\"\"Transformer 编码块\"\"\"\n",
    "    \n",
    "    def __init__(self, query_size, key_size, value_size,\n",
    "                 num_hiddens, norm_shape, ffn_num_input, ffn_num_hiddens, num_heads, dropout, use_bias=False, **kwargs): # 这里我把 query_size  放前面了，我觉得这样顺眼一些\n",
    "        super(EncoderBlock, self).__init__(**kwargs)\n",
    "        self.attention = d2l.MultiHeadAttention(query_size, key_size, value_size, num_hiddens, num_heads, dropout, use_bias)\n",
    "        self.addnorm1 = AddNorm(norm_shape, dropout)\n",
    "        self.ffn = PositionWiseFFN(ffn_num_input, ffn_num_hiddens, num_hiddens) \n",
    "        self.addnorm2 = AddNorm(norm_shape, dropout)\n",
    "        \n",
    "    def forward(self, X, valid_lens):\n",
    "        Y = self.addnorm1(X, self.attention(X, X, X, valid_lens))\n",
    "        return self.addnorm2(Y, self.ffn(Y))\n",
    "        "
   ]
  },
  {
   "cell_type": "code",
   "execution_count": 12,
   "metadata": {},
   "outputs": [
    {
     "data": {
      "text/plain": [
       "torch.Size([2, 100, 24])"
      ]
     },
     "execution_count": 12,
     "metadata": {},
     "output_type": "execute_result"
    }
   ],
   "source": [
    "X = torch.ones((2, 100, 24))\n",
    "valid_lens = torch.tensor([3, 2])\n",
    "encoder_blk = EncoderBlock(24, 24, 24, 24, [100, 24], 24, 48, 8, 0.5)\n",
    "encoder_blk.eval()\n",
    "encoder_blk(X, valid_lens).shape"
   ]
  },
  {
   "cell_type": "code",
   "execution_count": 15,
   "metadata": {},
   "outputs": [],
   "source": [
    "#@save\n",
    "class TransformerEncoder(d2l.Encoder):\n",
    "    \"\"\"Transformer编码器\"\"\"\n",
    "    def __init__(self, vocab_size, key_size, query_size, value_size,\n",
    "                 num_hiddens, norm_shape, ffn_num_input, ffn_num_hiddens,\n",
    "                 num_heads, num_layers, dropout, use_bias=False, **kwargs):\n",
    "        super(TransformerEncoder, self).__init__(**kwargs)\n",
    "        self.num_hiddens = num_hiddens\n",
    "        self.embedding = nn.Embedding(vocab_size, num_hiddens)\n",
    "        self.pos_encoding = d2l.PositionalEncoding(num_hiddens, dropout)\n",
    "        self.blks = nn.Sequential()\n",
    "        for i in range(num_layers):\n",
    "            self.blks.add_module(\"block\"+str(i),\n",
    "                EncoderBlock(key_size, query_size, value_size, num_hiddens,\n",
    "                             norm_shape, ffn_num_input, ffn_num_hiddens,\n",
    "                             num_heads, dropout, use_bias))\n",
    "\n",
    "    def forward(self, X, valid_lens, *args):\n",
    "        # 因为位置编码值在-1和1之间，\n",
    "        # 因此嵌入值乘以嵌入维度的平方根进行缩放，(NOTE:这是为什么呢？)\n",
    "        # 然后再与位置编码相加。\n",
    "        print(self.embedding(X).shape)\n",
    "        print(self.embedding(X))\n",
    "        print(self.embedding(X) * math.sqrt(self.num_hiddens))\n",
    "        \n",
    "        X = self.pos_encoding(self.embedding(X) * math.sqrt(self.num_hiddens))\n",
    "        self.attention_weights = [None] * len(self.blks)\n",
    "        for i, blk in enumerate(self.blks):\n",
    "            X = blk(X, valid_lens)\n",
    "            self.attention_weights[\n",
    "                i] = blk.attention.attention.attention_weights\n",
    "        return X"
   ]
  },
  {
   "cell_type": "code",
   "execution_count": 16,
   "metadata": {},
   "outputs": [
    {
     "name": "stdout",
     "output_type": "stream",
     "text": [
      "torch.Size([2, 100, 24])\n",
      "tensor([[[ 1.5149,  1.3712, -0.8276,  ..., -0.4783, -0.7301,  1.0176],\n",
      "         [ 1.5149,  1.3712, -0.8276,  ..., -0.4783, -0.7301,  1.0176],\n",
      "         [ 1.5149,  1.3712, -0.8276,  ..., -0.4783, -0.7301,  1.0176],\n",
      "         ...,\n",
      "         [ 1.5149,  1.3712, -0.8276,  ..., -0.4783, -0.7301,  1.0176],\n",
      "         [ 1.5149,  1.3712, -0.8276,  ..., -0.4783, -0.7301,  1.0176],\n",
      "         [ 1.5149,  1.3712, -0.8276,  ..., -0.4783, -0.7301,  1.0176]],\n",
      "\n",
      "        [[ 1.5149,  1.3712, -0.8276,  ..., -0.4783, -0.7301,  1.0176],\n",
      "         [ 1.5149,  1.3712, -0.8276,  ..., -0.4783, -0.7301,  1.0176],\n",
      "         [ 1.5149,  1.3712, -0.8276,  ..., -0.4783, -0.7301,  1.0176],\n",
      "         ...,\n",
      "         [ 1.5149,  1.3712, -0.8276,  ..., -0.4783, -0.7301,  1.0176],\n",
      "         [ 1.5149,  1.3712, -0.8276,  ..., -0.4783, -0.7301,  1.0176],\n",
      "         [ 1.5149,  1.3712, -0.8276,  ..., -0.4783, -0.7301,  1.0176]]],\n",
      "       grad_fn=<EmbeddingBackward0>)\n",
      "tensor([[[ 7.4213,  6.7176, -4.0542,  ..., -2.3432, -3.5767,  4.9854],\n",
      "         [ 7.4213,  6.7176, -4.0542,  ..., -2.3432, -3.5767,  4.9854],\n",
      "         [ 7.4213,  6.7176, -4.0542,  ..., -2.3432, -3.5767,  4.9854],\n",
      "         ...,\n",
      "         [ 7.4213,  6.7176, -4.0542,  ..., -2.3432, -3.5767,  4.9854],\n",
      "         [ 7.4213,  6.7176, -4.0542,  ..., -2.3432, -3.5767,  4.9854],\n",
      "         [ 7.4213,  6.7176, -4.0542,  ..., -2.3432, -3.5767,  4.9854]],\n",
      "\n",
      "        [[ 7.4213,  6.7176, -4.0542,  ..., -2.3432, -3.5767,  4.9854],\n",
      "         [ 7.4213,  6.7176, -4.0542,  ..., -2.3432, -3.5767,  4.9854],\n",
      "         [ 7.4213,  6.7176, -4.0542,  ..., -2.3432, -3.5767,  4.9854],\n",
      "         ...,\n",
      "         [ 7.4213,  6.7176, -4.0542,  ..., -2.3432, -3.5767,  4.9854],\n",
      "         [ 7.4213,  6.7176, -4.0542,  ..., -2.3432, -3.5767,  4.9854],\n",
      "         [ 7.4213,  6.7176, -4.0542,  ..., -2.3432, -3.5767,  4.9854]]],\n",
      "       grad_fn=<MulBackward0>)\n"
     ]
    },
    {
     "data": {
      "text/plain": [
       "torch.Size([2, 100, 24])"
      ]
     },
     "execution_count": 16,
     "metadata": {},
     "output_type": "execute_result"
    }
   ],
   "source": [
    "encoder = TransformerEncoder(\n",
    "    200, 24, 24, 24, 24, [100, 24], 24, 48, 8, 2, 0.5)\n",
    "encoder.eval()\n",
    "encoder(torch.ones((2, 100), dtype=torch.long), valid_lens).shape"
   ]
  },
  {
   "cell_type": "code",
   "execution_count": null,
   "metadata": {},
   "outputs": [],
   "source": []
  }
 ],
 "metadata": {
  "kernelspec": {
   "display_name": "d2l",
   "language": "python",
   "name": "python3"
  },
  "language_info": {
   "codemirror_mode": {
    "name": "ipython",
    "version": 3
   },
   "file_extension": ".py",
   "mimetype": "text/x-python",
   "name": "python",
   "nbconvert_exporter": "python",
   "pygments_lexer": "ipython3",
   "version": "3.8.15"
  },
  "orig_nbformat": 4,
  "vscode": {
   "interpreter": {
    "hash": "3e5a6ae7c572648802dfdfd739dbfdfa73ec0e738e8d3a96121f703499c383d3"
   }
  }
 },
 "nbformat": 4,
 "nbformat_minor": 2
}
